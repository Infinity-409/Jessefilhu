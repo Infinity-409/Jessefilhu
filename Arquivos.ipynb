{
  "cells": [
    {
      "cell_type": "markdown",
      "metadata": {
        "id": "view-in-github",
        "colab_type": "text"
      },
      "source": [
        "<a href=\"https://colab.research.google.com/github/Jessefilhu/Jessefilhu/blob/main/Arquivos.ipynb\" target=\"_parent\"><img src=\"https://colab.research.google.com/assets/colab-badge.svg\" alt=\"Open In Colab\"/></a>"
      ]
    },
    {
      "cell_type": "markdown",
      "id": "2b04bbea",
      "metadata": {
        "id": "2b04bbea"
      },
      "source": [
        "# Arquivos\n",
        "\n",
        "<span style=\"color: red;\"><b>Todos os exercícios são feitos partindo-se do pressuposto de que todas as entradas são dadas de forma correta. Casos limite não mencionados no enunciado não são abordados porque não fazem parte do exercício.</b></span>\n",
        "\n",
        "<span style=\"color: red;\"><b>Quando o autor menciona \"vetor\" no exercício ele quer dizer \"lista\".</b></span>"
      ]
    },
    {
      "cell_type": "markdown",
      "id": "5b1f33b9",
      "metadata": {
        "id": "5b1f33b9"
      },
      "source": [
        "#### 1. Faça um programa que leia um arquivo texto contendo uma lista de endereços IP e gere um outro arquivo, contendo um relatório dos endereços IP válidos e inválidos.\n",
        "O arquivo de entrada possui o seguinte formato:\n",
        "<pre>200.135.80.9\n",
        "192.168.1.1\n",
        "8.35.67.74\n",
        "257.32.4.5\n",
        "85.345.1.2\n",
        "1.2.3.4\n",
        "9.8.234.5\n",
        "192.168.0.256\n",
        "</pre>\n",
        "O arquivo de saída possui o seguinte formato:\n",
        "<pre>\n",
        "[Endereços válidos:]\n",
        "200.135.80.9\n",
        "192.168.1.1\n",
        "8.35.67.74\n",
        "1.2.3.4\n",
        "9.8.234.5\n",
        "\n",
        "[Endereços inválidos:]\n",
        "257.32.4.5\n",
        "85.345.1.2\n",
        "192.168.0.256\n",
        "</pre>\n",
        "<span style=\"color: red;\"><b>O gabarito do autor está incorreto, 9.8.234.5 é um IP válido.</b></span>"
      ]
    },
    {
      "cell_type": "code",
      "execution_count": null,
      "id": "c492b657",
      "metadata": {
        "id": "c492b657",
        "outputId": "b836e41e-9494-471e-a095-d6ff38e23d9f"
      },
      "outputs": [
        {
          "name": "stdout",
          "output_type": "stream",
          "text": [
            "[Endereços válidos:]\n",
            "200.135.80.9\n",
            "192.168.1.1\n",
            "8.35.67.74\n",
            "1.2.3.4\n",
            "9.8.234.5\n",
            "\n",
            "[Endereços inválidos:]\n",
            "257.32.4.5\n",
            "85.345.1.2\n",
            "192.168.0.256\n"
          ]
        }
      ],
      "source": [
        "import ipaddress\n",
        "\n",
        "with open('ips.txt', 'r') as fp:\n",
        "    ips = fp.read()\n",
        "    \n",
        "ips = ips.split('\\n')\n",
        "validos = []\n",
        "invalidos = []\n",
        "\n",
        "for ip in ips:\n",
        "    try:\n",
        "        ipaddress.ip_address(ip)\n",
        "        validos.append(ip)\n",
        "    except:\n",
        "        invalidos.append(ip)\n",
        "        \n",
        "print('[Endereços válidos:]')\n",
        "for valido in validos:\n",
        "    print(valido)\n",
        "\n",
        "print('\\n[Endereços inválidos:]')\n",
        "for invalido in invalidos:\n",
        "    print(invalido)"
      ]
    },
    {
      "cell_type": "markdown",
      "id": "ae44a9b7",
      "metadata": {
        "id": "ae44a9b7"
      },
      "source": [
        "#### 2. A ACME Inc., uma empresa de 500 funcionários, está tendo problemas de espaço em disco no seu servidor de arquivos. Para tentar resolver este problema, o Administrador de Rede precisa saber qual o espaço ocupado pelos usuários, e identificar os usuários com maior espaço ocupado. Através de um programa, baixado da Internet, ele conseguiu gerar o seguinte arquivo, chamado \"usuarios.txt\":\n",
        "```\n",
        "alexandre       456123789\n",
        "anderson        1245698456\n",
        "antonio         123456456\n",
        "carlos          91257581\n",
        "cesar           987458\n",
        "rosemary        789456125\n",
        "```\n",
        "Neste arquivo, o nome do usuário possui 15 caracteres. A partir deste arquivo, você deve criar um programa que gere um relatório, chamado \"relatório.txt\", no seguinte formato:\n",
        "```\n",
        "ACME Inc.               Uso do espaço em disco pelos usuários\n",
        "------------------------------------------------------------------------\n",
        "Nr.  Usuário        Espaço utilizado     % do uso\n",
        "\n",
        "1    alexandre       434,99 MB             16,85%\n",
        "2    anderson       1187,99 MB             46,02%\n",
        "3    antonio         117,73 MB              4,56%\n",
        "4    carlos           87,03 MB              3,37%\n",
        "5    cesar             0,94 MB              0,04%\n",
        "6    rosemary        752,88 MB             29,16%\n",
        "\n",
        "Espaço total ocupado: 2581,57 MB\n",
        "Espaço médio ocupado: 430,26 MB\n",
        "```\n",
        "O arquivo de entrada deve ser lido uma única vez, e os dados armazenados em memória, caso sejam necessários, de forma a agilizar a execução do programa. A conversão da espaço ocupado em disco, de bytes para megabytes deverá ser feita através de uma função separada, que será chamada pelo programa principal. O cálculo do percentual de uso também deverá ser feito através de uma função, que será chamada pelo programa principal."
      ]
    },
    {
      "cell_type": "code",
      "execution_count": null,
      "id": "cc3c533c",
      "metadata": {
        "id": "cc3c533c",
        "outputId": "ba3ffc51-eccc-4b60-cfc3-350eea02a2f9"
      },
      "outputs": [
        {
          "name": "stdout",
          "output_type": "stream",
          "text": [
            "ACME Inc.               Uso do espaço em disco pelos usuários\n",
            "------------------------------------------------------------------------\n",
            "Nr.\tUsuário\t\tEspaço utilizado\t% do uso\n",
            "1\talexandre\t434.99\t\t\t16.85%\n",
            "2\tanderson\t1187.99\t\t\t46.02%\n",
            "3\tantonio\t\t117.74\t\t\t4.56%\n",
            "4\tcarlos\t\t87.03\t\t\t3.37%\n",
            "5\tcesar\t\t0.94\t\t\t0.04%\n",
            "6\trosemary\t752.88\t\t\t29.16%\n",
            "Espaço total ocupado: 2581.58 MB\n",
            "Espaço médio ocupado: 430.26 MB\n"
          ]
        }
      ],
      "source": [
        "# caso tenha curiosidade de entender a conversao acesse o link\n",
        "# https://pt.wikipedia.org/wiki/MebiByte\n",
        "def converte_mb(valor):\n",
        "    return valor/(2**20)\n",
        "\n",
        "def porcentagem(valor, total):\n",
        "    return valor/total\n",
        "\n",
        "with open('usuarios.txt', 'r') as fp:\n",
        "    dados = fp.read()\n",
        "\n",
        "dados = dados.split('\\n')\n",
        "total = 0\n",
        "for i, linha in enumerate(dados):\n",
        "    dados[i] = linha.split()\n",
        "    dados[i][1] = int(dados[i][1])\n",
        "    total += dados[i][1]\n",
        "\n",
        "print('ACME Inc.               Uso do espaço em disco pelos usuários')\n",
        "print('------------------------------------------------------------------------')\n",
        "print('Nr.\\tUsuário\\t\\tEspaço utilizado\\t% do uso')\n",
        "i = 1\n",
        "for nome, qtde in dados:\n",
        "    if len(nome) < 8:\n",
        "        print(f'{i}\\t{nome}\\t\\t{converte_mb(qtde):.2f}\\t\\t\\t{porcentagem(qtde, total):.2%}')\n",
        "    else:\n",
        "        print(f'{i}\\t{nome}\\t{converte_mb(qtde):.2f}\\t\\t\\t{porcentagem(qtde, total):.2%}')\n",
        "    i += 1\n",
        "\n",
        "print(f'Espaço total ocupado: {converte_mb(total):.2f} MB')\n",
        "print(f'Espaço médio ocupado: {converte_mb(total/len(dados)):.2f} MB')"
      ]
    }
  ],
  "metadata": {
    "kernelspec": {
      "display_name": "Python 3.10.7 64-bit (microsoft store)",
      "language": "python",
      "name": "python3"
    },
    "language_info": {
      "codemirror_mode": {
        "name": "ipython",
        "version": 3
      },
      "file_extension": ".py",
      "mimetype": "text/x-python",
      "name": "python",
      "nbconvert_exporter": "python",
      "pygments_lexer": "ipython3",
      "version": "3.10.7"
    },
    "vscode": {
      "interpreter": {
        "hash": "33791d5e0fa00921e7caa6430ea8ed04481f55c06f7f8d19fa32e197f7142ae8"
      }
    },
    "colab": {
      "provenance": [],
      "include_colab_link": true
    }
  },
  "nbformat": 4,
  "nbformat_minor": 5
}