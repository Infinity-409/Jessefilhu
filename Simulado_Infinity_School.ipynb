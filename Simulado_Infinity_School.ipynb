{
  "nbformat": 4,
  "nbformat_minor": 0,
  "metadata": {
    "colab": {
      "provenance": [],
      "authorship_tag": "ABX9TyMm9PjTqJDZz0d/lUOQA+WS",
      "include_colab_link": true
    },
    "kernelspec": {
      "name": "python3",
      "display_name": "Python 3"
    },
    "language_info": {
      "name": "python"
    }
  },
  "cells": [
    {
      "cell_type": "markdown",
      "metadata": {
        "id": "view-in-github",
        "colab_type": "text"
      },
      "source": [
        "<a href=\"https://colab.research.google.com/github/Jessefilhu/Jessefilhu/blob/main/Simulado_Infinity_School.ipynb\" target=\"_parent\"><img src=\"https://colab.research.google.com/assets/colab-badge.svg\" alt=\"Open In Colab\"/></a>"
      ]
    },
    {
      "cell_type": "markdown",
      "source": [
        "# Questão 01\n",
        "\n",
        "### Mostre em tela o seu nome completo\n"
      ],
      "metadata": {
        "id": "2rGBohAeaymM"
      }
    },
    {
      "cell_type": "code",
      "source": [
        "print('Jessé Vandemberg Pereira dos Santos Filho')"
      ],
      "metadata": {
        "colab": {
          "base_uri": "https://localhost:8080/"
        },
        "id": "l4c8MH2Ca3aU",
        "outputId": "4421dade-49a0-4927-d8cc-894b53e87da8"
      },
      "execution_count": null,
      "outputs": [
        {
          "output_type": "stream",
          "name": "stdout",
          "text": [
            "Jessé Vandemberg Pereira dos Santos Filho\n"
          ]
        }
      ]
    },
    {
      "cell_type": "markdown",
      "source": [
        "#Questão 02\n",
        "### 02. Faça um programa que pergunte o nome do usuário e responda: Olá [nome] (substituindo \"[nome]\" pelo nome digitado).\n",
        "\n"
      ],
      "metadata": {
        "id": "m5iQlwFoa3_U"
      }
    },
    {
      "cell_type": "code",
      "source": [
        "nome = input('Digite seu nome: ')\n",
        "print('Olá {}.'.format(nome))"
      ],
      "metadata": {
        "colab": {
          "base_uri": "https://localhost:8080/"
        },
        "id": "L58o4EACbA2E",
        "outputId": "3dd3c21f-5f1d-43bd-eb53-55da79f522f9"
      },
      "execution_count": null,
      "outputs": [
        {
          "output_type": "stream",
          "name": "stdout",
          "text": [
            "Digite seu nome: Jessé\n",
            "Olá Jessé.\n"
          ]
        }
      ]
    },
    {
      "cell_type": "markdown",
      "source": [
        "#Questão 03\n",
        "###Faça um programa que pergunte o ano de nascimento do usuário e responde quantos anos ela terá ao final de 2022.\n"
      ],
      "metadata": {
        "id": "QUIF7ihwbG9r"
      }
    },
    {
      "cell_type": "code",
      "source": [
        "nascimento = int(input('Insira o ano que nasceu: '))\n",
        "anos = 2022 - nascimento\n",
        "print('Você terá {} ao Final de 2022.'.format(anos))"
      ],
      "metadata": {
        "colab": {
          "base_uri": "https://localhost:8080/"
        },
        "id": "9R6onSOSbIEj",
        "outputId": "a9cd4c40-4fdf-4b0e-ca35-d107d02a7bd1"
      },
      "execution_count": null,
      "outputs": [
        {
          "output_type": "stream",
          "name": "stdout",
          "text": [
            "Insira o ano que nasceu: 2000\n",
            "Você terá 22 ao Final de 2022.\n"
          ]
        }
      ]
    },
    {
      "cell_type": "markdown",
      "source": [
        "#Questão 04\n",
        "###Faça um programa que solicite a nota das 4 provas de um aluno e responde a sua média.\n"
      ],
      "metadata": {
        "id": "303PtKsrbJEr"
      }
    },
    {
      "cell_type": "code",
      "source": [
        "n1 = float(input('Digite a 1º nota: '))\n",
        "n2 = float(input('Digite a 2º nota: '))\n",
        "n3 = float(input('Digite a 3º nota: '))\n",
        "n4 = float(input('Digite a 4º nota: '))\n",
        "media = (n1 + n2 + n3 + n4) / 4\n",
        "print('Sua média é {}'.format(media))"
      ],
      "metadata": {
        "colab": {
          "base_uri": "https://localhost:8080/"
        },
        "id": "yWe9WYyobLyK",
        "outputId": "5ea017ff-f62a-48f5-f01d-2840fda53573"
      },
      "execution_count": null,
      "outputs": [
        {
          "output_type": "stream",
          "name": "stdout",
          "text": [
            "Digite a 1º nota: 5\n",
            "Digite a 2º nota: 5\n",
            "Digite a 3º nota: 5\n",
            "Digite a 4º nota: 5\n",
            "Sua média é 5.0\n"
          ]
        }
      ]
    },
    {
      "cell_type": "markdown",
      "source": [
        "#Questão 05\n",
        "### Crie um algoritmo que informe o tipo de um valor informado pelo usuário\n"
      ],
      "metadata": {
        "id": "nlhKfSyGbMK5"
      }
    },
    {
      "cell_type": "code",
      "source": [
        "tipoValor = input('Escolha uma opção: \\n[1] - Números Inteiros \\n[2] - Números fracionados \\n[3] - Texto \\n[4] - V ou F \\n  ')\n",
        "if tipoValor == '1':\n",
        "  inteiro = int(input('Digite um Número Inteiro: '))\n",
        "  print('O valor dessa informação é {}'.format(type(inteiro)))\n",
        "elif tipoValor == '2':\n",
        "  fracionado = float(input('Digite um Número Fracionado: '))\n",
        "  print('O valor dessa informação é {}'.format(type(fracionado)))\n",
        "elif tipoValor == '3':\n",
        "  texto = str(input('Digite o Texto: '))\n",
        "  print('O valor dessa informação é {}'.format(type(texto)))\n",
        "elif tipoValor == '4':\n",
        "  vf = input('Insira o valor True ou False: ').capitalize()\n",
        "  if vf == 'True' or vf == 'False':\n",
        "     print('Essa Informação é Booleana'.format(vf))\n",
        "  else:\n",
        "     print('Essa infomação não é Booleana'.format(vf))\n",
        "\n"
      ],
      "metadata": {
        "id": "Gm-fQi_4bOTZ",
        "colab": {
          "base_uri": "https://localhost:8080/"
        },
        "outputId": "811b95c9-4cec-405f-d0d9-e5ca6a23798e"
      },
      "execution_count": null,
      "outputs": [
        {
          "output_type": "stream",
          "name": "stdout",
          "text": [
            "Escolha uma opção: \n",
            "[1] - Números Inteiros \n",
            "[2] - Números fracionados \n",
            "[3] - Texto \n",
            "[4] - V ou F \n",
            "  4\n",
            "Insira o valor True ou False: True\n",
            "Essa Informação é Booleana\n"
          ]
        }
      ]
    },
    {
      "cell_type": "markdown",
      "source": [
        "# Questão 06\n",
        "### 06. Um estacionamento cobra um valor mínimo de 10 reais, correspondente a 1h de uso. Cada hora adicional gera mais 5 reais de cobrança. Ex: um carro estacionado por 5 horas irá pagar 10 reais pela primeira hora + 5 reais pela segunda + 5 pela terceira + 5 pela quarta + 5 pela quinta, totalizando 30 reais.\n",
        "### Faça um programa que pergunte para o usuário quanto tempo seu carro ficou estacionado e responde o valor em reais a ser pago.\n",
        "###OBS: o estacionamento não considera minutos, tampouco horas fracionárias. Portanto, o seu programa não precisa se preocupar com isso. Se a pessoa ficou 5 horas e 2 minutos, ela passou de 5 horas, portanto ela deve digitar a hora inteira mais próxima: 6 horas.\n"
      ],
      "metadata": {
        "id": "OxsXLViPbOth"
      }
    },
    {
      "cell_type": "code",
      "source": [
        "print('OBS: NÃO CALCULAMOS HORAS FRACIONADAS APENAS HORAS INTEIRAS!')\n",
        "horas = int(input('Insira a quantidade de tempo que seu carro ficou estacionado: '))\n",
        "pagar = (horas * 5) + 5\n",
        "if horas <= 1:\n",
        "  print('Cobramos R$ 10.00 pela 1º hora')\n",
        "else:\n",
        "  print('A primeira hora é R$ 10.00 e mais R$ 5.00 por horas Adicionais valor fica: R${:.2f}'.format(pagar))\n",
        "\n",
        "\n"
      ],
      "metadata": {
        "colab": {
          "base_uri": "https://localhost:8080/"
        },
        "id": "GYw_JOUmbSM5",
        "outputId": "361159d2-415a-455c-8d03-94db1435fb48"
      },
      "execution_count": null,
      "outputs": [
        {
          "output_type": "stream",
          "name": "stdout",
          "text": [
            "OBS: NÃO CALCULAMOS HORAS FRACIONADAS APENAS HORAS INTEIRAS!\n",
            "Insira a quantidade de tempo que seu carro ficou estacionado: 5\n",
            "A primeira hora é R$ 10.00 e mais R$ 5.00 por horas Adicionais valor fica: R$30.00\n"
          ]
        }
      ]
    },
    {
      "cell_type": "markdown",
      "source": [
        "# Questão 07\n",
        "### 07. Faça um programa que pergunta a temperatura em graus Celsius e responde a temperatura correspondente em graus Fahrenheit.\n",
        "### 07.1 Faça um programa que pergunta a temperatura em graus Fahrenheit e responde a temperatura correspondente em graus Celsius.\n"
      ],
      "metadata": {
        "id": "HB62mT1GbRZx"
      }
    },
    {
      "cell_type": "code",
      "source": [
        "celsius = float(input('Coloque aqui a temperatura em Celsius: '))\n",
        "fah =  celsius * (9 / 5) + 32\n",
        "print('A temperatura em Fahrenheit é:',fah)\n",
        "\n",
        "fah = float(input('Coloque aqui a temperatura em Fahrenheit: '))\n",
        "Cel = ((fah-32)*5)/9\n",
        "print('A temperatura em Celsius é:',Cel)"
      ],
      "metadata": {
        "colab": {
          "base_uri": "https://localhost:8080/"
        },
        "id": "vvGTi5v0cR6a",
        "outputId": "cbdcf026-44cf-4210-d8c6-6756bfbcdaea"
      },
      "execution_count": null,
      "outputs": [
        {
          "output_type": "stream",
          "name": "stdout",
          "text": [
            "Coloque aqui a temperatura em Celsius: 32\n",
            "A temperatura em Fahrenheit é: 89.6\n",
            "Coloque aqui a temperatura em Fahrenheit: 89.6\n",
            "A temperatura em Celsius é: 32.0\n"
          ]
        }
      ]
    },
    {
      "cell_type": "markdown",
      "source": [
        "# Questão 08\n",
        "### Crie um algoritmo que indique se um número é positivo ou negativo\n"
      ],
      "metadata": {
        "id": "3pvX64MXbWop"
      }
    },
    {
      "cell_type": "code",
      "source": [
        "numero = int(input('Insira um número: '))\n",
        "if numero < 0:\n",
        "  print('Esse número é NEGATIVO')\n",
        "elif numero > 0:\n",
        "  print('Esse número é POSITIVO')\n",
        "else:\n",
        "  print('Você Digitou ZERO!')"
      ],
      "metadata": {
        "colab": {
          "base_uri": "https://localhost:8080/"
        },
        "id": "UHZwOX2jcSov",
        "outputId": "2e4c4ae7-32c1-4cd5-f329-f78d12862279"
      },
      "execution_count": null,
      "outputs": [
        {
          "output_type": "stream",
          "name": "stdout",
          "text": [
            "Insira um número: 0\n",
            "Você Digitou ZERO!\n"
          ]
        }
      ]
    },
    {
      "cell_type": "markdown",
      "source": [
        "#Questão 09\n",
        "### Crie um algoritmo que indique se um número é par ou impar\n"
      ],
      "metadata": {
        "id": "4639FsClbW_5"
      }
    },
    {
      "cell_type": "code",
      "source": [
        "numero = int(input('Insira um número: '))\n",
        "if numero % 2 == 0:\n",
        "  print('Esse número é PAR!')\n",
        "else:\n",
        "  print('Esse número é IMPAR!')\n"
      ],
      "metadata": {
        "colab": {
          "base_uri": "https://localhost:8080/"
        },
        "id": "2Z8M2D6HcTav",
        "outputId": "1f89f0e0-c81e-408e-8806-a3f017640af8"
      },
      "execution_count": null,
      "outputs": [
        {
          "output_type": "stream",
          "name": "stdout",
          "text": [
            "Insira um número: 3\n",
            "Esse número é IMPAR!\n"
          ]
        }
      ]
    },
    {
      "cell_type": "markdown",
      "source": [
        "#Questão 10\n",
        "### Peça 5 números e informe a soma e o maior número (OBS: sem utilizar listas)"
      ],
      "metadata": {
        "id": "RQz5V3HDbXUw"
      }
    },
    {
      "cell_type": "code",
      "source": [
        "soma = 0\n",
        "maior = 0\n",
        "for i in range(5):\n",
        "  numeros = int(input(f'Digite {i+1}º números: '))\n",
        "  soma = soma + numeros\n",
        "  if numeros > maior:\n",
        "    maior = numeros\n",
        " \n",
        "\n",
        "\n",
        "print('a soma é: {}'.format(soma))\n",
        "print('O maior número é {}'.format(maior))  \n"
      ],
      "metadata": {
        "colab": {
          "base_uri": "https://localhost:8080/"
        },
        "id": "R6q14d7ncUHg",
        "outputId": "85515b1a-9706-4852-f8df-0cfa622f8633"
      },
      "execution_count": null,
      "outputs": [
        {
          "output_type": "stream",
          "name": "stdout",
          "text": [
            "Digite 1º números: 1\n",
            "Digite 2º números: 2\n",
            "Digite 3º números: 3\n",
            "Digite 4º números: 4\n",
            "Digite 5º números: 5\n",
            "a soma é: 15\n",
            "O maior número é 5\n"
          ]
        }
      ]
    },
    {
      "cell_type": "markdown",
      "source": [
        "#Questão 11\n",
        "### Criar DUAS MANEIRAS de imprimir em tela de 0 até 50 (for e while)"
      ],
      "metadata": {
        "id": "bP3fu6qnbXq4"
      }
    },
    {
      "cell_type": "code",
      "source": [
        "for contador in range(51):\n",
        "     print(contador)\n",
        "\n",
        "contador = -1\n",
        "while contador < 50:\n",
        "  contador = contador + 1\n",
        "  print(contador)\n",
        "  "
      ],
      "metadata": {
        "id": "Uo9T3hj1cUuR"
      },
      "execution_count": null,
      "outputs": []
    },
    {
      "cell_type": "markdown",
      "source": [
        "#Questão 12\n",
        "### Duas maneiras de imprimir de 100 até 50."
      ],
      "metadata": {
        "id": "OuwxWK_abYHZ"
      }
    },
    {
      "cell_type": "code",
      "source": [
        "for contador in range(100,49,-1):\n",
        "     print(contador)\n",
        "\n",
        "contador = 101\n",
        "while contador > 50:\n",
        "  contador = contador - 1\n",
        "  print(contador)  \n"
      ],
      "metadata": {
        "id": "Fnww_iHfcVUh"
      },
      "execution_count": null,
      "outputs": []
    },
    {
      "cell_type": "markdown",
      "source": [
        "#Questão 13\n",
        "### Pedir 10 números, se o número for par, vai para uma lista, se for impar, vai para outra lista. Ao final, mostrar as duas listas, a soma dos pares, a soma dos impares e a soma das duas listas"
      ],
      "metadata": {
        "id": "zrYH9b-CbYVw"
      }
    },
    {
      "cell_type": "code",
      "source": [
        "numPares = []\n",
        "numImpares = []\n",
        "\n",
        "for contador in range(10):\n",
        "    numeros = int(input(f'Digite o {contador+1}º Número: '))\n",
        "    if numeros % 2 == 0:\n",
        "      numPares.append(numeros)\n",
        "    else:\n",
        "      numImpares.append(numeros)\n",
        "\n",
        "listas = numPares + numImpares\n",
        "print('Lista de Pares: {}'.format(numPares))\n",
        "print('Lista de Impares: {}'.format(numImpares))\n",
        "print('A soma dos Pares: {}'.format(sum(numPares)))\n",
        "print('A soma dos Impares: {}'.format(sum(numImpares)))\n",
        "print('A Soma de Pares e Impares: {}'.format(sum(listas)))\n",
        "\n"
      ],
      "metadata": {
        "colab": {
          "base_uri": "https://localhost:8080/"
        },
        "id": "D3xOsnggcV25",
        "outputId": "da81c9a7-0525-4e4d-96d7-24eedc5b09e7"
      },
      "execution_count": null,
      "outputs": [
        {
          "output_type": "stream",
          "name": "stdout",
          "text": [
            "Digite o 1º Número: 1\n",
            "Digite o 2º Número: 2\n",
            "Digite o 3º Número: 3\n",
            "Digite o 4º Número: 4\n",
            "Digite o 5º Número: 5\n",
            "Digite o 6º Número: 6\n",
            "Digite o 7º Número: 7\n",
            "Digite o 8º Número: 8\n",
            "Digite o 9º Número: 9\n",
            "Digite o 10º Número: 10\n",
            "Lista de Pares: [2, 4, 6, 8, 10]\n",
            "Lista de Impares: [1, 3, 5, 7, 9]\n",
            "A soma dos Pares: 30\n",
            "A soma dos Impares: 25\n",
            "A Soma de Pares e Impares: 55\n"
          ]
        }
      ]
    },
    {
      "cell_type": "markdown",
      "source": [
        "#Questão 14\n",
        "### Programa para cálculo de IMC e ao final informar em qual categoria o usuário se encontra. \n",
        "Obs: Pesquisar as categorias do IMC"
      ],
      "metadata": {
        "id": "NagtW1aJbYsg"
      }
    },
    {
      "cell_type": "code",
      "source": [
        "# Classificação do IMC:\n",
        "# Menor que 18,5 - Abaixo do peso\n",
        "# Entre 18,5 e 24,9 - Peso normal\n",
        "# Entre 25 e 29,9 - Sobrepeso (acima do peso desejado)\n",
        "# Igual ou acima de 30 - Obesidade\n",
        "\n",
        "peso = float(input('Informe seu peso: '))\n",
        "altura = float(input('Informe sua altura: '))\n",
        "imc = peso / (altura * altura)\n",
        "print('Seu IMC é {:.1f}'.format(imc))\n",
        "\n",
        "if imc < 18.5:\n",
        "  print('Abaixo do peso')\n",
        "elif imc <= 24.9:\n",
        "  print('Peso Normal')\n",
        "elif imc <= 29.9:\n",
        "  print('Sobrepeso (acimda do peso desejado)')\n",
        "elif imc >= 30:\n",
        "  print('Obesidade') \n"
      ],
      "metadata": {
        "id": "bhsS6TOtcWTY",
        "colab": {
          "base_uri": "https://localhost:8080/"
        },
        "outputId": "986daf39-6aad-4b1c-f588-58d6012f44ab"
      },
      "execution_count": null,
      "outputs": [
        {
          "output_type": "stream",
          "name": "stdout",
          "text": [
            "Informe seu peso: 80\n",
            "Informe sua altura: 1.73\n",
            "Seu IMC é 26.7\n",
            "Sobrepeso (acimda do peso desejado)\n"
          ]
        }
      ]
    },
    {
      "cell_type": "markdown",
      "source": [
        "#Questão 15\n",
        "### Solicite a idade de 5 pessoas e ao final conte quantas pessoas são maiores de idade, a soma de todas as idades, a média das idades, o valor máximo, o valor mínimo, ordene de forma crescente e decrescente."
      ],
      "metadata": {
        "id": "SeuGZT19bZEg"
      }
    },
    {
      "cell_type": "code",
      "source": [
        "lista = []\n",
        "maiorIdade = 0\n",
        "soma = 0\n",
        "\n",
        "for i in range(5):\n",
        "  idade = int(input(f'Insira a {i+1}º Idade: '))\n",
        "  if idade >= 18:\n",
        "      maiorIdade += 1\n",
        "  lista.append(idade)\n",
        "  soma += idade\n",
        "\n",
        "print(f'Maior de Idade: {maiorIdade}')\n",
        "print(f'A Soma de todas as Idades é: {sum(lista)}')\n",
        "print(f'A Média de todas as idades é: {sum(lista) / len(lista)}')\n",
        "print(f'O Maior valor das idades é: {max(lista)}')\n",
        "print(f'O Menor valor das idades é: {min(lista)}')\n",
        "print(f'A idades em ordem crescente é: {sorted(lista)}')\n",
        "lista.reverse()\n",
        "print(f'As idades em ordem decrescente é: {lista}')\n"
      ],
      "metadata": {
        "id": "uS-j54YWcWy4",
        "colab": {
          "base_uri": "https://localhost:8080/"
        },
        "outputId": "b3254e5c-96e2-4d76-c999-02c8d077e42e"
      },
      "execution_count": 22,
      "outputs": [
        {
          "output_type": "stream",
          "name": "stdout",
          "text": [
            "Insira a 1º Idade: 3\n",
            "Insira a 2º Idade: 6\n",
            "Insira a 3º Idade: 21\n",
            "Insira a 4º Idade: 78\n",
            "Insira a 5º Idade: 888\n",
            "Maior de Idade: 3\n",
            "A Soma de todas as Idades é: 996\n",
            "A Média de todas as idades é: 199.2\n",
            "O Maior valor das idades é: 888\n",
            "O Menor valor das idades é: 3\n",
            "A idades em ordem crescente é: [3, 6, 21, 78, 888]\n",
            "As idades em ordem decrescente é: [888, 78, 21, 6, 3]\n"
          ]
        }
      ]
    },
    {
      "cell_type": "markdown",
      "source": [
        "#Questão 16\n",
        "### Criar um dicionário com as informações de uma única pessoa. Nome, Endereço, Data de nascimento, CPF, Nacionalidade"
      ],
      "metadata": {
        "id": "KmwRQH8qbZca"
      }
    },
    {
      "cell_type": "code",
      "source": [
        "info = {\"nome\":\"Jesse\", \"endereço\": \"AV.Bezerra de Menezes\",\"data de nascimento\":\"16/09/2000\",\"cpf\":\"67149183312\"}\n",
        "print(type(info))"
      ],
      "metadata": {
        "id": "W1WyLtH1cXQY",
        "colab": {
          "base_uri": "https://localhost:8080/"
        },
        "outputId": "5f388977-ae7c-4c7d-e645-6421784f7a91"
      },
      "execution_count": 11,
      "outputs": [
        {
          "output_type": "stream",
          "name": "stdout",
          "text": [
            "<class 'dict'>\n"
          ]
        }
      ]
    },
    {
      "cell_type": "markdown",
      "source": [
        "#Questão 17\n",
        "### Imprimir os itens, as chaves e os valores do dicionário anterior"
      ],
      "metadata": {
        "id": "EGl54OKrbZyD"
      }
    },
    {
      "cell_type": "code",
      "source": [
        "for k, v in info.items():\n",
        "  print(f'{k}: {v}')"
      ],
      "metadata": {
        "id": "ad6W_dJtcX4A",
        "colab": {
          "base_uri": "https://localhost:8080/"
        },
        "outputId": "c1d239c8-8632-4a7b-e62d-be35ebb6a00c"
      },
      "execution_count": 12,
      "outputs": [
        {
          "output_type": "stream",
          "name": "stdout",
          "text": [
            "nome: Jesse\n",
            "endereço: AV.Bezerra de Menezes\n",
            "data de nascimento: 16/09/2000\n",
            "cpf: 67149183312\n"
          ]
        }
      ]
    },
    {
      "cell_type": "markdown",
      "source": [
        "#Questão 18\n",
        "### Crie uma tupla com a latitude e longitude de uma cidade e depois imprima em tela. Edite a tupla anterior com os valores de outra cidade e imprima novamente."
      ],
      "metadata": {
        "id": "pcr_MwekbaIS"
      }
    },
    {
      "cell_type": "code",
      "source": [
        "cidade = (-5.33164415,-37.39196777)\n",
        "print(type(cidade))\n",
        "print(f'{cidade} Latitude e Longitude de Mossoró')\n",
        "cidade = list(cidade)\n",
        "print(type(cidade))\n",
        "cidade.pop(0)\n",
        "cidade.pop(0)\n",
        "cidade.append(-5.85647457)\n",
        "cidade.append(-35.20637512)\n",
        "print(f'{cidade} Latitude e Longitude de Natal')\n"
      ],
      "metadata": {
        "id": "K0tboDRpcY5o",
        "colab": {
          "base_uri": "https://localhost:8080/"
        },
        "outputId": "476caece-c83c-4e20-b7a7-2c1a25461e35"
      },
      "execution_count": 41,
      "outputs": [
        {
          "output_type": "stream",
          "name": "stdout",
          "text": [
            "<class 'tuple'>\n",
            "(-5.33164415, -37.39196777) Latitude e Longitude de Mossoró\n",
            "<class 'list'>\n",
            "[-5.85647457, -35.20637512] Latitude e Longitude de Natal\n"
          ]
        }
      ]
    },
    {
      "cell_type": "markdown",
      "source": [
        "#Questão 19\n",
        "### Crie uma função para cada operação básica (soma, subtração, multiplicação e divisão). Os cálculos serão baseados em dois números que o usuário informar."
      ],
      "metadata": {
        "id": "9AN6RkNQbamj"
      }
    },
    {
      "cell_type": "code",
      "source": [
        "def soma():\n",
        "    x = float(input(\"Primeiro numero: \"))\n",
        "    y = float(input(\"Segundo numero: \"))\n",
        "    print(\"Soma: \", x + y)\n",
        "\n",
        "def subtracao():\n",
        "    x = float(input(\"Primeiro numero: \"))\n",
        "    y = float(input(\"Segundo numero: \"))\n",
        "    print(\"Subtracao: \", x - y)\n",
        "\n",
        "def multiplicacao():\n",
        "    x = float(input(\"Primeiro numero: \"))\n",
        "    y = float(input(\"Segundo numero: \"))\n",
        "    print(\"Multiplicacao: \", x * y)\n",
        "\n",
        "def divisao():\n",
        "    x = float(input(\"Primeiro numero: \"))\n",
        "    y = float(input(\"Segundo numero: \"))\n",
        "    print(\"Divisao: \", x / y)\n",
        "\n",
        "soma()\n",
        "subtracao()\n",
        "multiplicacao()\n",
        "divisao()\n"
      ],
      "metadata": {
        "id": "4dWlM8s6cZcg",
        "colab": {
          "base_uri": "https://localhost:8080/"
        },
        "outputId": "d92ec3b3-77bc-4508-e0a4-96c0e6b7b937"
      },
      "execution_count": 42,
      "outputs": [
        {
          "output_type": "stream",
          "name": "stdout",
          "text": [
            "Primeiro numero: 4\n",
            "Segundo numero: 5\n",
            "Soma:  9.0\n",
            "Primeiro numero: 2\n",
            "Segundo numero: 1\n",
            "Subtracao:  1.0\n",
            "Primeiro numero: 5\n",
            "Segundo numero: 6\n",
            "Multiplicacao:  30.0\n",
            "Primeiro numero: 7\n",
            "Segundo numero: 8\n",
            "Divisao:  0.875\n"
          ]
        }
      ]
    },
    {
      "cell_type": "markdown",
      "source": [
        "#Questão 20\n",
        "### Crie uma função que vai informar se o número é positivo ou negativo."
      ],
      "metadata": {
        "id": "iaWwYhgCba5z"
      }
    },
    {
      "cell_type": "code",
      "source": [],
      "metadata": {
        "id": "MyAT1rsJcaCI"
      },
      "execution_count": 43,
      "outputs": []
    },
    {
      "cell_type": "markdown",
      "source": [
        "#Questão 21\n",
        "### Crie uma função que peça duas notas e retorne a média. Chame a função para dois alunos e, ao final, some as duas médias.\n"
      ],
      "metadata": {
        "id": "Pk3GLFZKcFDI"
      }
    },
    {
      "cell_type": "code",
      "source": [],
      "metadata": {
        "id": "Ka0NutAzcahg"
      },
      "execution_count": null,
      "outputs": []
    }
  ]
}